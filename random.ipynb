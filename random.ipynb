{
  "nbformat": 4,
  "nbformat_minor": 0,
  "metadata": {
    "colab": {
      "name": "Untitled0.ipynb",
      "provenance": [],
      "collapsed_sections": [],
      "authorship_tag": "ABX9TyMH82JV/0u91LYNgyKOY1E+",
      "include_colab_link": true
    },
    "kernelspec": {
      "name": "python3",
      "display_name": "Python 3"
    },
    "language_info": {
      "name": "python"
    }
  },
  "cells": [
    {
      "cell_type": "markdown",
      "metadata": {
        "id": "view-in-github",
        "colab_type": "text"
      },
      "source": [
        "<a href=\"https://colab.research.google.com/github/edsoncastrosavi/Projeto-01/blob/main/random.ipynb\" target=\"_parent\"><img src=\"https://colab.research.google.com/assets/colab-badge.svg\" alt=\"Open In Colab\"/></a>"
      ]
    },
    {
      "cell_type": "code",
      "source": [
        "from random import shuffle\n",
        "\n",
        "def embaralha(nome):\n",
        "\n",
        "    a = list(nome)\n",
        "\n",
        "    shuffle(a)\n",
        "\n",
        "    a = ''.join(a)\n",
        "\n",
        "    print(a.lower())\n",
        "\n",
        "nome = input('Digite algo: ')\n",
        "\n",
        "embaralha(nome)"
      ],
      "metadata": {
        "colab": {
          "base_uri": "https://localhost:8080/"
        },
        "id": "no0FyU10zvhn",
        "outputId": "e604799a-93ae-45d8-ba2c-8a275228a3f0"
      },
      "execution_count": 7,
      "outputs": [
        {
          "output_type": "stream",
          "name": "stdout",
          "text": [
            "Digite algo: edson\n",
            "endso\n"
          ]
        }
      ]
    }
  ]
}