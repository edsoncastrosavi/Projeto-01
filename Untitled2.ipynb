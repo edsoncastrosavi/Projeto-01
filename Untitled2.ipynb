{
  "nbformat": 4,
  "nbformat_minor": 0,
  "metadata": {
    "colab": {
      "provenance": [],
      "authorship_tag": "ABX9TyO3bGeZbUFQS18qXrX73IlO",
      "include_colab_link": true
    },
    "kernelspec": {
      "name": "python3",
      "display_name": "Python 3"
    },
    "language_info": {
      "name": "python"
    }
  },
  "cells": [
    {
      "cell_type": "markdown",
      "metadata": {
        "id": "view-in-github",
        "colab_type": "text"
      },
      "source": [
        "<a href=\"https://colab.research.google.com/github/edsoncastrosavi/Projeto-01/blob/main/Untitled2.ipynb\" target=\"_parent\"><img src=\"https://colab.research.google.com/assets/colab-badge.svg\" alt=\"Open In Colab\"/></a>"
      ]
    },
    {
      "cell_type": "code",
      "execution_count": 14,
      "metadata": {
        "colab": {
          "base_uri": "https://localhost:8080/"
        },
        "id": "_ebBOWmpwF3j",
        "outputId": "99f5998e-d437-4dc9-d07d-6099e2acfc5c"
      },
      "outputs": [
        {
          "output_type": "stream",
          "name": "stdout",
          "text": [
            "Digite um carro: ferrari\n",
            "ferrari\n",
            "<class 'str'>\n",
            "Digite um carro: ferrari\n",
            "Vamos de ferrari, porque todo rico tem uma.\n",
            "Digite um carro: ferrari\n",
            "Eu vou ligar a minha ferrari, porque sou muito rico\n",
            "Digite um carro: ferrari\n",
            "Eu bati minha ferrari, porque passei a vida inteira sendo pobre e não sei dirigir uma ferrari\n"
          ]
        }
      ],
      "source": [
        "carro = input(\"Digite um carro: \")#type#\n",
        "print(carro)\n",
        "print(type(carro))\n",
        "\n",
        "carro = input(\"Digite um carro: \")#Tipo C#\n",
        "print( \"Vamos de %s, porque todo rico tem uma.\" % (carro))\n",
        "\n",
        "carro = input(\"Digite um carro: \")#Format#\n",
        "print(\"Eu vou ligar a minha {}, porque sou muito rico\" .format(carro))\n",
        "\n",
        "carro = input(\"Digite um carro: \")#FString#\n",
        "print(f\"Eu bati minha {carro}, porque passei a vida inteira sendo pobre e não sei dirigir uma {carro}\")\n",
        "\n",
        "\n",
        "\n",
        "\n",
        "\n",
        "\n",
        "\n"
      ]
    }
  ]
}